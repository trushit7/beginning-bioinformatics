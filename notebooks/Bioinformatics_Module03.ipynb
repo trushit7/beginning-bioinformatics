{
  "nbformat": 4,
  "nbformat_minor": 0,
  "metadata": {
    "colab": {
      "provenance": [],
      "authorship_tag": "ABX9TyNun95BaavZ4BW1JvtdbKt2",
      "include_colab_link": true
    },
    "kernelspec": {
      "name": "python3",
      "display_name": "Python 3"
    },
    "language_info": {
      "name": "python"
    }
  },
  "cells": [
    {
      "cell_type": "markdown",
      "metadata": {
        "id": "view-in-github",
        "colab_type": "text"
      },
      "source": [
        "<a href=\"https://colab.research.google.com/github/trushit7/beginning-bioinformatics/blob/main/week3.ipynb\" target=\"_parent\"><img src=\"https://colab.research.google.com/assets/colab-badge.svg\" alt=\"Open In Colab\"/></a>"
      ]
    },
    {
      "cell_type": "code",
      "execution_count": 1,
      "metadata": {
        "colab": {
          "base_uri": "https://localhost:8080/"
        },
        "id": "0WGPEo9egKQ-",
        "outputId": "76fee9df-00f7-4cb8-8695-744a20f5c5b1"
      },
      "outputs": [
        {
          "output_type": "stream",
          "name": "stdout",
          "text": [
            "Enter your name: Trushit\n",
            "Hello Trushit\n"
          ]
        }
      ],
      "source": [
        "# P6.1\n",
        "user_name = input(\"Enter your name: \")\n",
        "print(\"Hello\", user_name)"
      ]
    },
    {
      "cell_type": "code",
      "source": [
        "# P6.2: a^2 + b^2 = c^2\n",
        "a = float(input(\"Enter side a: \"))\n",
        "b = float(input(\"Enter side b: \"))\n",
        "c = (a**2 + b**2) ** 0.5\n",
        "print(\"Hypotenuse =\", c)"
      ],
      "metadata": {
        "colab": {
          "base_uri": "https://localhost:8080/"
        },
        "id": "ca7Ug3wngPpS",
        "outputId": "58cd67b9-3310-4c2d-dd9c-46999d56c112"
      },
      "execution_count": 3,
      "outputs": [
        {
          "output_type": "stream",
          "name": "stdout",
          "text": [
            "Enter side a: 863\n",
            "Enter side b: 986\n",
            "Hypotenuse = 1310.3301110788839\n"
          ]
        }
      ]
    },
    {
      "cell_type": "code",
      "source": [
        "# P7.1\n",
        "my_list = [\"Hello\", \"World\", \"Trushit\", \"Karan\"]\n",
        "print(my_list[1])  # World (0-based indexing)"
      ],
      "metadata": {
        "colab": {
          "base_uri": "https://localhost:8080/"
        },
        "id": "JYXIZ-G_gPst",
        "outputId": "f0bf01f4-472d-48b8-f046-0febd6f15575"
      },
      "execution_count": 4,
      "outputs": [
        {
          "output_type": "stream",
          "name": "stdout",
          "text": [
            "World\n"
          ]
        }
      ]
    },
    {
      "cell_type": "code",
      "source": [
        "# P7.2\n",
        "my_list[3] = \"Meet\"\n",
        "print(my_list)"
      ],
      "metadata": {
        "colab": {
          "base_uri": "https://localhost:8080/"
        },
        "id": "zV8eoGYvgP4M",
        "outputId": "dfc7b924-1055-4674-a0af-47a24b4447e9"
      },
      "execution_count": 5,
      "outputs": [
        {
          "output_type": "stream",
          "name": "stdout",
          "text": [
            "['Hello', 'World', 'Trushit', 'Meet']\n"
          ]
        }
      ]
    },
    {
      "cell_type": "code",
      "source": [
        "# P7.3\n",
        "my_list.append(\"Jay\")\n",
        "print(my_list)"
      ],
      "metadata": {
        "colab": {
          "base_uri": "https://localhost:8080/"
        },
        "id": "ez8rw3AbgeP1",
        "outputId": "7c579aed-b459-4c87-a667-86a3681d1787"
      },
      "execution_count": 6,
      "outputs": [
        {
          "output_type": "stream",
          "name": "stdout",
          "text": [
            "['Hello', 'World', 'Trushit', 'Meet', 'Jay']\n"
          ]
        }
      ]
    },
    {
      "cell_type": "code",
      "source": [
        "# P7.4\n",
        "my_list.insert(1, \"Iitem\")\n",
        "print(my_list)"
      ],
      "metadata": {
        "colab": {
          "base_uri": "https://localhost:8080/"
        },
        "id": "_C8AhpFDgeSk",
        "outputId": "8e3f4182-a1a1-4d77-addd-9dd8dc59281a"
      },
      "execution_count": 7,
      "outputs": [
        {
          "output_type": "stream",
          "name": "stdout",
          "text": [
            "['Hello', 'Iitem', 'World', 'Trushit', 'Meet', 'Jay']\n"
          ]
        }
      ]
    },
    {
      "cell_type": "code",
      "source": [
        "# P8: Strings slice like lists\n",
        "my_string = \"HelloWorldTrushitMeet\"\n",
        "# Print \"Hello World\"\n",
        "hello = my_string[0:5]\n",
        "world = my_string[5:10]\n",
        "print(hello, world)"
      ],
      "metadata": {
        "colab": {
          "base_uri": "https://localhost:8080/"
        },
        "id": "4Sp3rpJ8gmcf",
        "outputId": "beaeb510-2bcc-49a9-d03c-a21361f65fdd"
      },
      "execution_count": 9,
      "outputs": [
        {
          "output_type": "stream",
          "name": "stdout",
          "text": [
            "Hello World\n"
          ]
        }
      ]
    },
    {
      "cell_type": "code",
      "source": [
        "# P8.1\n",
        "print(my_list[2:4])  # end is non-inclusive"
      ],
      "metadata": {
        "colab": {
          "base_uri": "https://localhost:8080/"
        },
        "id": "lKL2lvCbgeU5",
        "outputId": "1cdff3a0-e848-4845-b46c-0aa368b17802"
      },
      "execution_count": 10,
      "outputs": [
        {
          "output_type": "stream",
          "name": "stdout",
          "text": [
            "['World', 'Trushit']\n"
          ]
        }
      ]
    },
    {
      "cell_type": "code",
      "source": [
        "#P8.2\n",
        "first = my_string[33:]\n",
        "second   = my_string[5:10]\n",
        "print(f\"{first} {second}\")"
      ],
      "metadata": {
        "colab": {
          "base_uri": "https://localhost:8080/"
        },
        "id": "UPD-5tntgo0q",
        "outputId": "b4d4dc83-3ffa-4942-96c4-7f5449bbfcde"
      },
      "execution_count": 11,
      "outputs": [
        {
          "output_type": "stream",
          "name": "stdout",
          "text": [
            " World\n"
          ]
        }
      ]
    },
    {
      "cell_type": "code",
      "source": [
        "#2: Rosalind Problem Strings and Lists\n",
        "s = input().strip()\n",
        "a, b, c, d = map(int, input().split())\n",
        "print(s[a:b+1], s[c:d+1])"
      ],
      "metadata": {
        "colab": {
          "base_uri": "https://localhost:8080/"
        },
        "id": "7gp2HK5_geYS",
        "outputId": "3247a3df-daed-442a-a475-4153e311a2e7"
      },
      "execution_count": 13,
      "outputs": [
        {
          "output_type": "stream",
          "name": "stdout",
          "text": [
            "csP9k6YVcGtO1EV409Hz98QmOLVRSswJw0L0R9IhaglFVruMhGjSbM6rxY2RBbJNZy6Twc7rDoMJTamiaslcEWd6o4nwFlUdylErdcJsg7dh9dL7S5Avfporzana4gOejqsBkFNCdqy1uMI9jyeGe1sE2fXwZBiztk4.\n",
            "76 81 117 123\n",
            "Tamias porzana\n"
          ]
        }
      ]
    },
    {
      "cell_type": "code",
      "source": [
        "# P9.1\n",
        "x = int(input(\"Enter x: \"))\n",
        "y = int(input(\"Enter y: \"))\n",
        "if x == y:\n",
        "    print(\"Sum:\", x + y)\n",
        "else:\n",
        "    print(\"Difference:\", x - y)\n"
      ],
      "metadata": {
        "colab": {
          "base_uri": "https://localhost:8080/"
        },
        "id": "tBTaru1ag9B1",
        "outputId": "77d9854a-4edd-40d7-9e5e-4010625fa954"
      },
      "execution_count": 14,
      "outputs": [
        {
          "output_type": "stream",
          "name": "stdout",
          "text": [
            "Enter x: 4\n",
            "Enter y: 6\n",
            "Difference: -2\n"
          ]
        }
      ]
    },
    {
      "cell_type": "code",
      "source": [
        "# P10.1\n",
        "count = 0\n",
        "while count < 3:\n",
        "    print(\"Counting!\")\n",
        "    count += 1"
      ],
      "metadata": {
        "colab": {
          "base_uri": "https://localhost:8080/"
        },
        "id": "tLhFM9e3hAGl",
        "outputId": "b6226d9c-c270-45c9-e612-e21e08729b4a"
      },
      "execution_count": 15,
      "outputs": [
        {
          "output_type": "stream",
          "name": "stdout",
          "text": [
            "Counting!\n",
            "Counting!\n",
            "Counting!\n"
          ]
        }
      ]
    },
    {
      "cell_type": "code",
      "source": [
        "# P11.1\n",
        "names = [\"Trushit\", \"Meet\", \"Karan\"]\n",
        "for name in names:\n",
        "    print(\"Hello\", name)"
      ],
      "metadata": {
        "colab": {
          "base_uri": "https://localhost:8080/"
        },
        "id": "n_Ri6MHdhAJL",
        "outputId": "31f3c5ca-cedb-4337-b1c3-684f4a6c59be"
      },
      "execution_count": 16,
      "outputs": [
        {
          "output_type": "stream",
          "name": "stdout",
          "text": [
            "Hello Trushit\n",
            "Hello Meet\n",
            "Hello Karan\n"
          ]
        }
      ]
    },
    {
      "cell_type": "code",
      "source": [
        "# P12.1\n",
        "iterations = 10\n",
        "for number in range(iterations):\n",
        "    print(number)"
      ],
      "metadata": {
        "colab": {
          "base_uri": "https://localhost:8080/"
        },
        "id": "bvX4vFNthALo",
        "outputId": "78bb8c74-b418-4b3f-813c-349c65c7cc7b"
      },
      "execution_count": 17,
      "outputs": [
        {
          "output_type": "stream",
          "name": "stdout",
          "text": [
            "0\n",
            "1\n",
            "2\n",
            "3\n",
            "4\n",
            "5\n",
            "6\n",
            "7\n",
            "8\n",
            "9\n"
          ]
        }
      ]
    },
    {
      "cell_type": "code",
      "source": [
        "# P12.2\n",
        "for n in range(9, 28, 3):\n",
        "    print(n)"
      ],
      "metadata": {
        "colab": {
          "base_uri": "https://localhost:8080/"
        },
        "id": "CKHPhURAhAPL",
        "outputId": "70ee30ee-492a-49dc-ba54-b09030759943"
      },
      "execution_count": 18,
      "outputs": [
        {
          "output_type": "stream",
          "name": "stdout",
          "text": [
            "9\n",
            "12\n",
            "15\n",
            "18\n",
            "21\n",
            "24\n",
            "27\n"
          ]
        }
      ]
    },
    {
      "cell_type": "code",
      "source": [
        " #3 : Complete Rosalind Problem Conditions and Loops\n",
        "a, b = map(int, input().split())\n",
        "print(sum(n for n in range(a, b+1) if n % 2 == 1))"
      ],
      "metadata": {
        "colab": {
          "base_uri": "https://localhost:8080/"
        },
        "id": "QbuxTGzShPdb",
        "outputId": "9ef5746a-dd7f-437a-b54c-b378b8b1e33e"
      },
      "execution_count": 19,
      "outputs": [
        {
          "output_type": "stream",
          "name": "stdout",
          "text": [
            "4848 9361\n",
            "16035985\n"
          ]
        }
      ]
    },
    {
      "cell_type": "code",
      "source": [
        "# Create the sample file locally so the notebook is self-contained\n",
        "text = \"Bravely bold Sir Robin rode forth from Camelot\\nHe was not afraid to die, O brave Sir Robin\"\n",
        "with open(\"practice.txt\", \"w\") as f:\n",
        "    f.write(text)\n",
        "print(\"practice.txt created\")\n"
      ],
      "metadata": {
        "colab": {
          "base_uri": "https://localhost:8080/"
        },
        "id": "ojHfik-uhjvr",
        "outputId": "428e282b-00e5-4966-d768-f4ff0bed1f5d"
      },
      "execution_count": 25,
      "outputs": [
        {
          "output_type": "stream",
          "name": "stdout",
          "text": [
            "practice.txt created\n"
          ]
        }
      ]
    },
    {
      "cell_type": "code",
      "source": [
        "# P13.1\n",
        "with open(\"practice.txt\", \"r\") as data:\n",
        "    print(data.read())\n"
      ],
      "metadata": {
        "colab": {
          "base_uri": "https://localhost:8080/"
        },
        "id": "0uDbnyxshsGo",
        "outputId": "8d97ad68-9a54-495c-842a-eda17b957868"
      },
      "execution_count": 26,
      "outputs": [
        {
          "output_type": "stream",
          "name": "stdout",
          "text": [
            "Bravely bold Sir Robin rode forth from Camelot\n",
            "He was not afraid to die, O brave Sir Robin\n"
          ]
        }
      ]
    },
    {
      "cell_type": "code",
      "source": [
        "# P13.2\n",
        "with open(\"practice.txt\", \"r\") as data:\n",
        "    whole = data.read()\n",
        "    print(\"READ() →\")\n",
        "    print(whole)\n",
        "\n",
        "with open(\"practice.txt\", \"r\") as data:\n",
        "    print(\"READLINE() →\")\n",
        "    print(data.readline())\n",
        "\n",
        "with open(\"practice.txt\", \"r\") as data:\n",
        "    print(\"READLINES() →\")\n",
        "    print(data.readlines())\n"
      ],
      "metadata": {
        "colab": {
          "base_uri": "https://localhost:8080/"
        },
        "id": "Plm9UH5lhsJR",
        "outputId": "638a7635-7802-4337-fff3-6c26ffaf375b"
      },
      "execution_count": 27,
      "outputs": [
        {
          "output_type": "stream",
          "name": "stdout",
          "text": [
            "READ() →\n",
            "Bravely bold Sir Robin rode forth from Camelot\n",
            "He was not afraid to die, O brave Sir Robin\n",
            "READLINE() →\n",
            "Bravely bold Sir Robin rode forth from Camelot\n",
            "\n",
            "READLINES() →\n",
            "['Bravely bold Sir Robin rode forth from Camelot\\n', 'He was not afraid to die, O brave Sir Robin']\n"
          ]
        }
      ]
    },
    {
      "cell_type": "code",
      "source": [
        "# P14.1\n",
        "with open(\"practice.txt\", \"r\") as data:\n",
        "    list_of_lines = data.readlines()  # list of strings with \\n\n",
        "\n",
        "# Print to look like original input:\n",
        "print(\"\".join(list_of_lines))\n"
      ],
      "metadata": {
        "colab": {
          "base_uri": "https://localhost:8080/"
        },
        "id": "h_Ub_gIPhsM0",
        "outputId": "c6b700cd-ec32-4cbf-d12d-e5d93111073c"
      },
      "execution_count": 28,
      "outputs": [
        {
          "output_type": "stream",
          "name": "stdout",
          "text": [
            "Bravely bold Sir Robin rode forth from Camelot\n",
            "He was not afraid to die, O brave Sir Robin\n"
          ]
        }
      ]
    },
    {
      "cell_type": "code",
      "source": [
        "# P15.1\n",
        "with open(\"practice.txt\", \"r\") as data:\n",
        "    for line in data:\n",
        "        print(line.rstrip())\n"
      ],
      "metadata": {
        "colab": {
          "base_uri": "https://localhost:8080/"
        },
        "id": "ysuZfCDwiIRn",
        "outputId": "b06615b3-3258-4038-901c-672fa201aecd"
      },
      "execution_count": 29,
      "outputs": [
        {
          "output_type": "stream",
          "name": "stdout",
          "text": [
            "Bravely bold Sir Robin rode forth from Camelot\n",
            "He was not afraid to die, O brave Sir Robin\n"
          ]
        }
      ]
    },
    {
      "cell_type": "code",
      "source": [
        "# Create practice_5.txt\n",
        "sample = \"To be or not to be that is the question\"\n",
        "with open(\"practice_5.txt\", \"w\") as f:\n",
        "    f.write(sample)\n",
        "\n",
        "# P16.1\n",
        "with open(\"practice_5.txt\", \"r\") as data:\n",
        "    for line in data:\n",
        "        for word in line.split():   # default splits on whitespace\n",
        "            print(word)\n"
      ],
      "metadata": {
        "colab": {
          "base_uri": "https://localhost:8080/"
        },
        "id": "INwpQHBhiIT5",
        "outputId": "09525422-fd14-49bd-d344-b511728ec8a6"
      },
      "execution_count": 30,
      "outputs": [
        {
          "output_type": "stream",
          "name": "stdout",
          "text": [
            "To\n",
            "be\n",
            "or\n",
            "not\n",
            "to\n",
            "be\n",
            "that\n",
            "is\n",
            "the\n",
            "question\n"
          ]
        }
      ]
    },
    {
      "cell_type": "code",
      "source": [
        "#4 : Complete Rosalind Problem Working with Files\n",
        "with open(\"4.txt\", \"r\") as data:\n",
        "    for i, line in enumerate(data, start=1):\n",
        "        if i % 2 == 0:\n",
        "            print(line.rstrip())"
      ],
      "metadata": {
        "colab": {
          "base_uri": "https://localhost:8080/"
        },
        "id": "x4RwrgARiIXR",
        "outputId": "4213c1e6-689e-4db0-b614-69cb3539687e"
      },
      "execution_count": 34,
      "outputs": [
        {
          "output_type": "stream",
          "name": "stdout",
          "text": [
            "Some things in life are bad, they can really make you mad\n",
            "Other things just make you swear and curse\n",
            "When you're chewing on life's gristle, don't grumble give a whistle\n",
            "This will help things turn out for the best\n",
            "Always look on the bright side of life\n",
            "Always look on the right side of life\n",
            "If life seems jolly rotten, there's something you've forgotten\n",
            "And that's to laugh and smile and dance and sing\n",
            "When you're feeling in the dumps, don't be silly, chumps\n",
            "Just purse your lips and whistle, that's the thing\n",
            "So, always look on the bright side of death\n",
            "Just before you draw your terminal breath\n",
            "Life's a counterfeit and when you look at it\n",
            "Life's a laugh and death's the joke, it's true\n",
            "You see, it's all a show, keep them laughing as you go\n",
            "Just remember the last laugh is on you\n",
            "Always look on the bright side of life\n",
            "And always look on the right side of life\n",
            "Always look on the bright side of life\n",
            "And always look on the right side of life\n"
          ]
        }
      ]
    },
    {
      "cell_type": "code",
      "source": [
        "# Create practice_5.txt\n",
        "sample = \"To be or not to be that is the question\"\n",
        "with open(\"practice_5.txt\", \"w\") as f:\n",
        "    f.write(sample)\n",
        "\n",
        "# P16.1\n",
        "with open(\"practice_5.txt\", \"r\") as data:\n",
        "    for line in data:\n",
        "        for word in line.split():   # default splits on whitespace\n",
        "            print(word)\n"
      ],
      "metadata": {
        "colab": {
          "base_uri": "https://localhost:8080/"
        },
        "id": "sgdlkxTvis8A",
        "outputId": "2745efb1-d8fb-476d-a9c9-5b287dd1c4e4"
      },
      "execution_count": 41,
      "outputs": [
        {
          "output_type": "stream",
          "name": "stdout",
          "text": [
            "To\n",
            "be\n",
            "or\n",
            "not\n",
            "to\n",
            "be\n",
            "that\n",
            "is\n",
            "the\n",
            "question\n"
          ]
        }
      ]
    },
    {
      "cell_type": "code",
      "source": [
        "# P17.1\n",
        "sequences = {\n",
        "    \"H\": \"Hello\",\n",
        "    \"W\": \"World\",\n",
        "    \"KA\": \"KARAN\",\n",
        "    \"CD\": \"CDDRIVE\"\n",
        "}\n",
        "print(sequences)\n",
        "print(sequences[\"CD\"])\n"
      ],
      "metadata": {
        "colab": {
          "base_uri": "https://localhost:8080/"
        },
        "id": "Zv5tgcseis_a",
        "outputId": "00e54d6a-a824-4700-eccc-eff7acce5d7f"
      },
      "execution_count": 42,
      "outputs": [
        {
          "output_type": "stream",
          "name": "stdout",
          "text": [
            "{'H': 'Hello', 'W': 'World', 'KA': 'KARAN', 'CD': 'CDDRIVE'}\n",
            "CDDRIVE\n"
          ]
        }
      ]
    },
    {
      "cell_type": "code",
      "source": [
        "# Add one key:value\n",
        "sequences[\"TJ\"] = \"TrushitJaiswal\"\n",
        "# Bulk update (new or overwrite)\n",
        "sequences.update({\"TT\": \"TableTennis\", \"PT\": \"PostTerm\"})\n",
        "for key, value in sequences.items():\n",
        "    print(key, \"->\", value)\n"
      ],
      "metadata": {
        "colab": {
          "base_uri": "https://localhost:8080/"
        },
        "id": "5hXcEGCtjg5R",
        "outputId": "1789f018-bacc-49d1-cb7e-c25b209b64b1"
      },
      "execution_count": 43,
      "outputs": [
        {
          "output_type": "stream",
          "name": "stdout",
          "text": [
            "H -> Hello\n",
            "W -> World\n",
            "KA -> KARAN\n",
            "CD -> CDDRIVE\n",
            "TJ -> TrushitJaiswal\n",
            "TT -> TableTennis\n",
            "PT -> PostTerm\n"
          ]
        }
      ]
    },
    {
      "cell_type": "code",
      "source": [
        "# P18.1: make a faux fasta from key:value (key = header, value = sequence)\n",
        "fasta_name = \"trushit.jaiswal\"\n",
        "with open(fasta_name, \"w\") as f:\n",
        "    for key, value in sequences.items():\n",
        "        f.write(f\">{key}\\n{value}\\n\")\n",
        "print(f\"{fasta_name} written\")\n"
      ],
      "metadata": {
        "colab": {
          "base_uri": "https://localhost:8080/"
        },
        "id": "G0ELzz_ojg76",
        "outputId": "18ab0e89-1294-49ea-993d-76a10fa51d28"
      },
      "execution_count": 44,
      "outputs": [
        {
          "output_type": "stream",
          "name": "stdout",
          "text": [
            "trushit.jaiswal written\n"
          ]
        }
      ]
    },
    {
      "cell_type": "code",
      "source": [
        "#5 Complete Rosalind Problem Dictionaries\n",
        "from collections import Counter\n",
        "\n",
        "# input.txt contains a single line (or multiple) of words\n",
        "with open(\"5.txt\", \"r\") as f:\n",
        "    words = f.read().split()\n",
        "\n",
        "counts = Counter(words)\n",
        "for w, c in counts.items():   # order arbitrary is fine; to sort: for w in sorted(counts)\n",
        "    print(w, c)"
      ],
      "metadata": {
        "colab": {
          "base_uri": "https://localhost:8080/"
        },
        "id": "5atSZJttjg_e",
        "outputId": "1236fc1a-008d-4ca4-a55a-709c16990720"
      },
      "execution_count": 45,
      "outputs": [
        {
          "output_type": "stream",
          "name": "stdout",
          "text": [
            "When 1\n",
            "I 2\n",
            "find 1\n",
            "myself 1\n",
            "in 4\n",
            "times 1\n",
            "of 11\n",
            "trouble 1\n",
            "Mother 2\n",
            "Mary 2\n",
            "comes 2\n",
            "to 3\n",
            "me 4\n",
            "Speaking 3\n",
            "words 7\n",
            "wisdom 7\n",
            "let 30\n",
            "it 36\n",
            "be 41\n",
            "And 3\n",
            "my 1\n",
            "hour 1\n",
            "darkness 1\n",
            "she 1\n",
            "is 4\n",
            "standing 1\n",
            "right 1\n",
            "front 1\n",
            "Let 6\n",
            "Whisper 4\n",
            "when 2\n",
            "the 4\n",
            "broken 1\n",
            "hearted 1\n",
            "people 1\n",
            "living 1\n",
            "world 1\n",
            "agree 1\n",
            "There 4\n",
            "will 5\n",
            "an 4\n",
            "answer 4\n",
            "For 1\n",
            "though 1\n",
            "they 2\n",
            "may 1\n",
            "parted 1\n",
            "there 2\n",
            "still 2\n",
            "a 2\n",
            "chance 1\n",
            "that 2\n",
            "see 1\n",
            "night 1\n",
            "cloudy 1\n",
            "light 1\n",
            "shines 1\n",
            "on 1\n",
            "Shine 1\n",
            "until 1\n",
            "tomorrow 1\n",
            "wake 1\n",
            "up 1\n",
            "sound 1\n",
            "music 1\n",
            "yeah 2\n"
          ]
        }
      ]
    },
    {
      "cell_type": "code",
      "source": [
        "# 6 Complete Rosalind Task\n",
        "from google.colab import files\n",
        "uploaded = files.upload()  # pick your practice.txt# dna.txt contains one DNA string\n",
        "\n",
        "with open(\"6.txt\", \"r\") as f:\n",
        "    s = f.read().strip()\n",
        "\n",
        "print(s.count(\"A\"), s.count(\"C\"), s.count(\"G\"), s.count(\"T\"))"
      ],
      "metadata": {
        "colab": {
          "base_uri": "https://localhost:8080/",
          "height": 90
        },
        "id": "vFBDjfgXjrVr",
        "outputId": "45d773e8-51c2-498b-922a-324416c5c6e7"
      },
      "execution_count": 46,
      "outputs": [
        {
          "output_type": "display_data",
          "data": {
            "text/plain": [
              "<IPython.core.display.HTML object>"
            ],
            "text/html": [
              "\n",
              "     <input type=\"file\" id=\"files-6b32cd8f-d84d-44d3-926a-34e2f70fc16c\" name=\"files[]\" multiple disabled\n",
              "        style=\"border:none\" />\n",
              "     <output id=\"result-6b32cd8f-d84d-44d3-926a-34e2f70fc16c\">\n",
              "      Upload widget is only available when the cell has been executed in the\n",
              "      current browser session. Please rerun this cell to enable.\n",
              "      </output>\n",
              "      <script>// Copyright 2017 Google LLC\n",
              "//\n",
              "// Licensed under the Apache License, Version 2.0 (the \"License\");\n",
              "// you may not use this file except in compliance with the License.\n",
              "// You may obtain a copy of the License at\n",
              "//\n",
              "//      http://www.apache.org/licenses/LICENSE-2.0\n",
              "//\n",
              "// Unless required by applicable law or agreed to in writing, software\n",
              "// distributed under the License is distributed on an \"AS IS\" BASIS,\n",
              "// WITHOUT WARRANTIES OR CONDITIONS OF ANY KIND, either express or implied.\n",
              "// See the License for the specific language governing permissions and\n",
              "// limitations under the License.\n",
              "\n",
              "/**\n",
              " * @fileoverview Helpers for google.colab Python module.\n",
              " */\n",
              "(function(scope) {\n",
              "function span(text, styleAttributes = {}) {\n",
              "  const element = document.createElement('span');\n",
              "  element.textContent = text;\n",
              "  for (const key of Object.keys(styleAttributes)) {\n",
              "    element.style[key] = styleAttributes[key];\n",
              "  }\n",
              "  return element;\n",
              "}\n",
              "\n",
              "// Max number of bytes which will be uploaded at a time.\n",
              "const MAX_PAYLOAD_SIZE = 100 * 1024;\n",
              "\n",
              "function _uploadFiles(inputId, outputId) {\n",
              "  const steps = uploadFilesStep(inputId, outputId);\n",
              "  const outputElement = document.getElementById(outputId);\n",
              "  // Cache steps on the outputElement to make it available for the next call\n",
              "  // to uploadFilesContinue from Python.\n",
              "  outputElement.steps = steps;\n",
              "\n",
              "  return _uploadFilesContinue(outputId);\n",
              "}\n",
              "\n",
              "// This is roughly an async generator (not supported in the browser yet),\n",
              "// where there are multiple asynchronous steps and the Python side is going\n",
              "// to poll for completion of each step.\n",
              "// This uses a Promise to block the python side on completion of each step,\n",
              "// then passes the result of the previous step as the input to the next step.\n",
              "function _uploadFilesContinue(outputId) {\n",
              "  const outputElement = document.getElementById(outputId);\n",
              "  const steps = outputElement.steps;\n",
              "\n",
              "  const next = steps.next(outputElement.lastPromiseValue);\n",
              "  return Promise.resolve(next.value.promise).then((value) => {\n",
              "    // Cache the last promise value to make it available to the next\n",
              "    // step of the generator.\n",
              "    outputElement.lastPromiseValue = value;\n",
              "    return next.value.response;\n",
              "  });\n",
              "}\n",
              "\n",
              "/**\n",
              " * Generator function which is called between each async step of the upload\n",
              " * process.\n",
              " * @param {string} inputId Element ID of the input file picker element.\n",
              " * @param {string} outputId Element ID of the output display.\n",
              " * @return {!Iterable<!Object>} Iterable of next steps.\n",
              " */\n",
              "function* uploadFilesStep(inputId, outputId) {\n",
              "  const inputElement = document.getElementById(inputId);\n",
              "  inputElement.disabled = false;\n",
              "\n",
              "  const outputElement = document.getElementById(outputId);\n",
              "  outputElement.innerHTML = '';\n",
              "\n",
              "  const pickedPromise = new Promise((resolve) => {\n",
              "    inputElement.addEventListener('change', (e) => {\n",
              "      resolve(e.target.files);\n",
              "    });\n",
              "  });\n",
              "\n",
              "  const cancel = document.createElement('button');\n",
              "  inputElement.parentElement.appendChild(cancel);\n",
              "  cancel.textContent = 'Cancel upload';\n",
              "  const cancelPromise = new Promise((resolve) => {\n",
              "    cancel.onclick = () => {\n",
              "      resolve(null);\n",
              "    };\n",
              "  });\n",
              "\n",
              "  // Wait for the user to pick the files.\n",
              "  const files = yield {\n",
              "    promise: Promise.race([pickedPromise, cancelPromise]),\n",
              "    response: {\n",
              "      action: 'starting',\n",
              "    }\n",
              "  };\n",
              "\n",
              "  cancel.remove();\n",
              "\n",
              "  // Disable the input element since further picks are not allowed.\n",
              "  inputElement.disabled = true;\n",
              "\n",
              "  if (!files) {\n",
              "    return {\n",
              "      response: {\n",
              "        action: 'complete',\n",
              "      }\n",
              "    };\n",
              "  }\n",
              "\n",
              "  for (const file of files) {\n",
              "    const li = document.createElement('li');\n",
              "    li.append(span(file.name, {fontWeight: 'bold'}));\n",
              "    li.append(span(\n",
              "        `(${file.type || 'n/a'}) - ${file.size} bytes, ` +\n",
              "        `last modified: ${\n",
              "            file.lastModifiedDate ? file.lastModifiedDate.toLocaleDateString() :\n",
              "                                    'n/a'} - `));\n",
              "    const percent = span('0% done');\n",
              "    li.appendChild(percent);\n",
              "\n",
              "    outputElement.appendChild(li);\n",
              "\n",
              "    const fileDataPromise = new Promise((resolve) => {\n",
              "      const reader = new FileReader();\n",
              "      reader.onload = (e) => {\n",
              "        resolve(e.target.result);\n",
              "      };\n",
              "      reader.readAsArrayBuffer(file);\n",
              "    });\n",
              "    // Wait for the data to be ready.\n",
              "    let fileData = yield {\n",
              "      promise: fileDataPromise,\n",
              "      response: {\n",
              "        action: 'continue',\n",
              "      }\n",
              "    };\n",
              "\n",
              "    // Use a chunked sending to avoid message size limits. See b/62115660.\n",
              "    let position = 0;\n",
              "    do {\n",
              "      const length = Math.min(fileData.byteLength - position, MAX_PAYLOAD_SIZE);\n",
              "      const chunk = new Uint8Array(fileData, position, length);\n",
              "      position += length;\n",
              "\n",
              "      const base64 = btoa(String.fromCharCode.apply(null, chunk));\n",
              "      yield {\n",
              "        response: {\n",
              "          action: 'append',\n",
              "          file: file.name,\n",
              "          data: base64,\n",
              "        },\n",
              "      };\n",
              "\n",
              "      let percentDone = fileData.byteLength === 0 ?\n",
              "          100 :\n",
              "          Math.round((position / fileData.byteLength) * 100);\n",
              "      percent.textContent = `${percentDone}% done`;\n",
              "\n",
              "    } while (position < fileData.byteLength);\n",
              "  }\n",
              "\n",
              "  // All done.\n",
              "  yield {\n",
              "    response: {\n",
              "      action: 'complete',\n",
              "    }\n",
              "  };\n",
              "}\n",
              "\n",
              "scope.google = scope.google || {};\n",
              "scope.google.colab = scope.google.colab || {};\n",
              "scope.google.colab._files = {\n",
              "  _uploadFiles,\n",
              "  _uploadFilesContinue,\n",
              "};\n",
              "})(self);\n",
              "</script> "
            ]
          },
          "metadata": {}
        },
        {
          "output_type": "stream",
          "name": "stdout",
          "text": [
            "Saving 6.txt to 6.txt\n",
            "220 186 206 197\n"
          ]
        }
      ]
    },
    {
      "cell_type": "code",
      "source": [
        "# P19.2\n",
        "sentence = \"to be or not to be that is the question to be\"\n",
        "words = sentence.split()\n",
        "counts = {}\n",
        "for w in words:\n",
        "    if w not in counts:\n",
        "        counts[w] = words.count(w)   # only count if it's new\n",
        "print(counts)\n"
      ],
      "metadata": {
        "colab": {
          "base_uri": "https://localhost:8080/"
        },
        "id": "LaILlMCujrYL",
        "outputId": "8d61841c-1a95-4381-ea74-4f8b34cae4da"
      },
      "execution_count": 47,
      "outputs": [
        {
          "output_type": "stream",
          "name": "stdout",
          "text": [
            "{'to': 3, 'be': 3, 'or': 1, 'not': 1, 'that': 1, 'is': 1, 'the': 1, 'question': 1}\n"
          ]
        }
      ]
    },
    {
      "cell_type": "code",
      "source": [
        "# P20: (Colab-only; re-run if session resets)\n",
        "!pip -q install biopython"
      ],
      "metadata": {
        "colab": {
          "base_uri": "https://localhost:8080/"
        },
        "id": "E1GOdkfBjraq",
        "outputId": "084e116e-3bd9-4fbc-f922-2fce365a4ee2"
      },
      "execution_count": 48,
      "outputs": [
        {
          "output_type": "stream",
          "name": "stdout",
          "text": [
            "\u001b[?25l   \u001b[90m━━━━━━━━━━━━━━━━━━━━━━━━━━━━━━━━━━━━━━━━\u001b[0m \u001b[32m0.0/3.3 MB\u001b[0m \u001b[31m?\u001b[0m eta \u001b[36m-:--:--\u001b[0m\r\u001b[2K   \u001b[91m━━━\u001b[0m\u001b[91m╸\u001b[0m\u001b[90m━━━━━━━━━━━━━━━━━━━━━━━━━━━━━━━━━━━━\u001b[0m \u001b[32m0.3/3.3 MB\u001b[0m \u001b[31m9.7 MB/s\u001b[0m eta \u001b[36m0:00:01\u001b[0m\r\u001b[2K   \u001b[91m━━━━━━━━━━━━━━━━━━━━━━━━━\u001b[0m\u001b[91m╸\u001b[0m\u001b[90m━━━━━━━━━━━━━━\u001b[0m \u001b[32m2.1/3.3 MB\u001b[0m \u001b[31m30.4 MB/s\u001b[0m eta \u001b[36m0:00:01\u001b[0m\r\u001b[2K   \u001b[91m━━━━━━━━━━━━━━━━━━━━━━━━━━━━━━━━━━━━━━━\u001b[0m\u001b[91m╸\u001b[0m \u001b[32m3.3/3.3 MB\u001b[0m \u001b[31m40.4 MB/s\u001b[0m eta \u001b[36m0:00:01\u001b[0m\r\u001b[2K   \u001b[90m━━━━━━━━━━━━━━━━━━━━━━━━━━━━━━━━━━━━━━━━\u001b[0m \u001b[32m3.3/3.3 MB\u001b[0m \u001b[31m29.6 MB/s\u001b[0m eta \u001b[36m0:00:00\u001b[0m\n",
            "\u001b[?25h"
          ]
        }
      ]
    },
    {
      "cell_type": "code",
      "source": [
        "# 7 Complete Rosalind Task\n",
        "from Bio.Seq import Seq\n",
        "from google.colab import files\n",
        "uploaded = files.upload()  # pick your practice.txt# dna.txt contains one DNA string\n",
        "with open(\"7.txt\", \"r\") as f:\n",
        "    dna= Seq(f.read().strip())\n",
        "\n",
        "rna = dna.transcribe()  # T->U\n",
        "print(rna)"
      ],
      "metadata": {
        "colab": {
          "base_uri": "https://localhost:8080/",
          "height": 110
        },
        "id": "kI67rZvqjrd_",
        "outputId": "37ce5dfe-00d3-418d-9e96-6718fb840e21"
      },
      "execution_count": 49,
      "outputs": [
        {
          "output_type": "display_data",
          "data": {
            "text/plain": [
              "<IPython.core.display.HTML object>"
            ],
            "text/html": [
              "\n",
              "     <input type=\"file\" id=\"files-aab2f1de-3fd4-4fbd-ac6e-d932f45d318b\" name=\"files[]\" multiple disabled\n",
              "        style=\"border:none\" />\n",
              "     <output id=\"result-aab2f1de-3fd4-4fbd-ac6e-d932f45d318b\">\n",
              "      Upload widget is only available when the cell has been executed in the\n",
              "      current browser session. Please rerun this cell to enable.\n",
              "      </output>\n",
              "      <script>// Copyright 2017 Google LLC\n",
              "//\n",
              "// Licensed under the Apache License, Version 2.0 (the \"License\");\n",
              "// you may not use this file except in compliance with the License.\n",
              "// You may obtain a copy of the License at\n",
              "//\n",
              "//      http://www.apache.org/licenses/LICENSE-2.0\n",
              "//\n",
              "// Unless required by applicable law or agreed to in writing, software\n",
              "// distributed under the License is distributed on an \"AS IS\" BASIS,\n",
              "// WITHOUT WARRANTIES OR CONDITIONS OF ANY KIND, either express or implied.\n",
              "// See the License for the specific language governing permissions and\n",
              "// limitations under the License.\n",
              "\n",
              "/**\n",
              " * @fileoverview Helpers for google.colab Python module.\n",
              " */\n",
              "(function(scope) {\n",
              "function span(text, styleAttributes = {}) {\n",
              "  const element = document.createElement('span');\n",
              "  element.textContent = text;\n",
              "  for (const key of Object.keys(styleAttributes)) {\n",
              "    element.style[key] = styleAttributes[key];\n",
              "  }\n",
              "  return element;\n",
              "}\n",
              "\n",
              "// Max number of bytes which will be uploaded at a time.\n",
              "const MAX_PAYLOAD_SIZE = 100 * 1024;\n",
              "\n",
              "function _uploadFiles(inputId, outputId) {\n",
              "  const steps = uploadFilesStep(inputId, outputId);\n",
              "  const outputElement = document.getElementById(outputId);\n",
              "  // Cache steps on the outputElement to make it available for the next call\n",
              "  // to uploadFilesContinue from Python.\n",
              "  outputElement.steps = steps;\n",
              "\n",
              "  return _uploadFilesContinue(outputId);\n",
              "}\n",
              "\n",
              "// This is roughly an async generator (not supported in the browser yet),\n",
              "// where there are multiple asynchronous steps and the Python side is going\n",
              "// to poll for completion of each step.\n",
              "// This uses a Promise to block the python side on completion of each step,\n",
              "// then passes the result of the previous step as the input to the next step.\n",
              "function _uploadFilesContinue(outputId) {\n",
              "  const outputElement = document.getElementById(outputId);\n",
              "  const steps = outputElement.steps;\n",
              "\n",
              "  const next = steps.next(outputElement.lastPromiseValue);\n",
              "  return Promise.resolve(next.value.promise).then((value) => {\n",
              "    // Cache the last promise value to make it available to the next\n",
              "    // step of the generator.\n",
              "    outputElement.lastPromiseValue = value;\n",
              "    return next.value.response;\n",
              "  });\n",
              "}\n",
              "\n",
              "/**\n",
              " * Generator function which is called between each async step of the upload\n",
              " * process.\n",
              " * @param {string} inputId Element ID of the input file picker element.\n",
              " * @param {string} outputId Element ID of the output display.\n",
              " * @return {!Iterable<!Object>} Iterable of next steps.\n",
              " */\n",
              "function* uploadFilesStep(inputId, outputId) {\n",
              "  const inputElement = document.getElementById(inputId);\n",
              "  inputElement.disabled = false;\n",
              "\n",
              "  const outputElement = document.getElementById(outputId);\n",
              "  outputElement.innerHTML = '';\n",
              "\n",
              "  const pickedPromise = new Promise((resolve) => {\n",
              "    inputElement.addEventListener('change', (e) => {\n",
              "      resolve(e.target.files);\n",
              "    });\n",
              "  });\n",
              "\n",
              "  const cancel = document.createElement('button');\n",
              "  inputElement.parentElement.appendChild(cancel);\n",
              "  cancel.textContent = 'Cancel upload';\n",
              "  const cancelPromise = new Promise((resolve) => {\n",
              "    cancel.onclick = () => {\n",
              "      resolve(null);\n",
              "    };\n",
              "  });\n",
              "\n",
              "  // Wait for the user to pick the files.\n",
              "  const files = yield {\n",
              "    promise: Promise.race([pickedPromise, cancelPromise]),\n",
              "    response: {\n",
              "      action: 'starting',\n",
              "    }\n",
              "  };\n",
              "\n",
              "  cancel.remove();\n",
              "\n",
              "  // Disable the input element since further picks are not allowed.\n",
              "  inputElement.disabled = true;\n",
              "\n",
              "  if (!files) {\n",
              "    return {\n",
              "      response: {\n",
              "        action: 'complete',\n",
              "      }\n",
              "    };\n",
              "  }\n",
              "\n",
              "  for (const file of files) {\n",
              "    const li = document.createElement('li');\n",
              "    li.append(span(file.name, {fontWeight: 'bold'}));\n",
              "    li.append(span(\n",
              "        `(${file.type || 'n/a'}) - ${file.size} bytes, ` +\n",
              "        `last modified: ${\n",
              "            file.lastModifiedDate ? file.lastModifiedDate.toLocaleDateString() :\n",
              "                                    'n/a'} - `));\n",
              "    const percent = span('0% done');\n",
              "    li.appendChild(percent);\n",
              "\n",
              "    outputElement.appendChild(li);\n",
              "\n",
              "    const fileDataPromise = new Promise((resolve) => {\n",
              "      const reader = new FileReader();\n",
              "      reader.onload = (e) => {\n",
              "        resolve(e.target.result);\n",
              "      };\n",
              "      reader.readAsArrayBuffer(file);\n",
              "    });\n",
              "    // Wait for the data to be ready.\n",
              "    let fileData = yield {\n",
              "      promise: fileDataPromise,\n",
              "      response: {\n",
              "        action: 'continue',\n",
              "      }\n",
              "    };\n",
              "\n",
              "    // Use a chunked sending to avoid message size limits. See b/62115660.\n",
              "    let position = 0;\n",
              "    do {\n",
              "      const length = Math.min(fileData.byteLength - position, MAX_PAYLOAD_SIZE);\n",
              "      const chunk = new Uint8Array(fileData, position, length);\n",
              "      position += length;\n",
              "\n",
              "      const base64 = btoa(String.fromCharCode.apply(null, chunk));\n",
              "      yield {\n",
              "        response: {\n",
              "          action: 'append',\n",
              "          file: file.name,\n",
              "          data: base64,\n",
              "        },\n",
              "      };\n",
              "\n",
              "      let percentDone = fileData.byteLength === 0 ?\n",
              "          100 :\n",
              "          Math.round((position / fileData.byteLength) * 100);\n",
              "      percent.textContent = `${percentDone}% done`;\n",
              "\n",
              "    } while (position < fileData.byteLength);\n",
              "  }\n",
              "\n",
              "  // All done.\n",
              "  yield {\n",
              "    response: {\n",
              "      action: 'complete',\n",
              "    }\n",
              "  };\n",
              "}\n",
              "\n",
              "scope.google = scope.google || {};\n",
              "scope.google.colab = scope.google.colab || {};\n",
              "scope.google.colab._files = {\n",
              "  _uploadFiles,\n",
              "  _uploadFilesContinue,\n",
              "};\n",
              "})(self);\n",
              "</script> "
            ]
          },
          "metadata": {}
        },
        {
          "output_type": "stream",
          "name": "stdout",
          "text": [
            "Saving 7.txt to 7.txt\n",
            "CCUUUGGAGCCAGGAGUUCUACCGCCCGAUCGGAUCCCGACCCUCUUAAUACUAAUAAUCAUCUCACCCUCAUUGGGAGAAAUCUCCCGCCCACUUCACCUAAUUUAAUAGGAUGUGAACAAGAAUCAACUUGGAAGAGUCGUGUCAGUUUCGGAGCACAAAACCGCUCGAAUUGCCCCAGGGGGUGGAACUGUCGGAGAACCAAGUGCUGGGCGUCUGACUUGAACGUAGCUCUGUUUAUUAUCGUAGUUCCUUACUCCCGCAAAGUUGCAGUUCAACGAUUUCCCGCCCAGGAAGAAAGCGAGCACGAUCUUAGACUUAUCCGCUUGACAGGGCACAUUACACCCCACGCGGCCUAGGGGGGCCUAGUUAAGACAGAUACUCAUUAUGCGUCCACCUUGGUACUCUGGAUCUAGUAGGGUCUCAGCCCGCUCGAGGCUCGUGAUAGAUAUACUCAAAUGCAUUAUGGUGUAUUCUUAUUUUCAUGUACCUCAAGAACUCUCCGGCAUAGGCGUCACCAAACAAGACCAGUAUAACCGCUCAUUGCCCACCCAAACAGACUCGGAGACAUUAUCGCUUUGCAAAUUCACUCUUUUAGACAGUUAGGGUGGCCCGCGGUUACGCACGACAGUGCUGCUGAGUCGAGGACGUGGCCUGGCCUGCGAGUAUACUACUCUAUAUCCGUGGGAAGCGGUCAUGCGUUAAUUUUGAGCAGUGAAAAGUUUGCUACCCGAGUACUAAAGAAGGACUAACAUAUCUUUAACUAGAAGUUCAACUCCUGUCUCCAAUACAUUUCGCAUUUGAAAGCCCAAGAGCUUCUUCGGCUUUGUCCGUUGUCAGGAGGACGCUGUUGAUUAUAUGCCCUUCGAUUCUCCGUAAUGUGGUUCCUCACGCUUGUUAGUGGAGGAGCCAUAAG\n"
          ]
        }
      ]
    },
    {
      "cell_type": "code",
      "source": [
        "# 8 Complete Rosalind Task\n",
        "from Bio.Seq import Seq\n",
        "from google.colab import files\n",
        "uploaded = files.upload()\n",
        "with open(\"8.txt\", \"r\") as f:\n",
        "    rna = Seq(f.read().strip())\n",
        "\n",
        "protein = rna.translate(to_stop=True)  # stop at first stop codon\n",
        "print(protein)"
      ],
      "metadata": {
        "colab": {
          "base_uri": "https://localhost:8080/",
          "height": 110
        },
        "id": "rvDnRgLlksoO",
        "outputId": "45fbae5f-1f48-46ed-c351-93e3267011c8"
      },
      "execution_count": 50,
      "outputs": [
        {
          "output_type": "display_data",
          "data": {
            "text/plain": [
              "<IPython.core.display.HTML object>"
            ],
            "text/html": [
              "\n",
              "     <input type=\"file\" id=\"files-f2cfaf64-304b-4ff8-9564-065b2ac43180\" name=\"files[]\" multiple disabled\n",
              "        style=\"border:none\" />\n",
              "     <output id=\"result-f2cfaf64-304b-4ff8-9564-065b2ac43180\">\n",
              "      Upload widget is only available when the cell has been executed in the\n",
              "      current browser session. Please rerun this cell to enable.\n",
              "      </output>\n",
              "      <script>// Copyright 2017 Google LLC\n",
              "//\n",
              "// Licensed under the Apache License, Version 2.0 (the \"License\");\n",
              "// you may not use this file except in compliance with the License.\n",
              "// You may obtain a copy of the License at\n",
              "//\n",
              "//      http://www.apache.org/licenses/LICENSE-2.0\n",
              "//\n",
              "// Unless required by applicable law or agreed to in writing, software\n",
              "// distributed under the License is distributed on an \"AS IS\" BASIS,\n",
              "// WITHOUT WARRANTIES OR CONDITIONS OF ANY KIND, either express or implied.\n",
              "// See the License for the specific language governing permissions and\n",
              "// limitations under the License.\n",
              "\n",
              "/**\n",
              " * @fileoverview Helpers for google.colab Python module.\n",
              " */\n",
              "(function(scope) {\n",
              "function span(text, styleAttributes = {}) {\n",
              "  const element = document.createElement('span');\n",
              "  element.textContent = text;\n",
              "  for (const key of Object.keys(styleAttributes)) {\n",
              "    element.style[key] = styleAttributes[key];\n",
              "  }\n",
              "  return element;\n",
              "}\n",
              "\n",
              "// Max number of bytes which will be uploaded at a time.\n",
              "const MAX_PAYLOAD_SIZE = 100 * 1024;\n",
              "\n",
              "function _uploadFiles(inputId, outputId) {\n",
              "  const steps = uploadFilesStep(inputId, outputId);\n",
              "  const outputElement = document.getElementById(outputId);\n",
              "  // Cache steps on the outputElement to make it available for the next call\n",
              "  // to uploadFilesContinue from Python.\n",
              "  outputElement.steps = steps;\n",
              "\n",
              "  return _uploadFilesContinue(outputId);\n",
              "}\n",
              "\n",
              "// This is roughly an async generator (not supported in the browser yet),\n",
              "// where there are multiple asynchronous steps and the Python side is going\n",
              "// to poll for completion of each step.\n",
              "// This uses a Promise to block the python side on completion of each step,\n",
              "// then passes the result of the previous step as the input to the next step.\n",
              "function _uploadFilesContinue(outputId) {\n",
              "  const outputElement = document.getElementById(outputId);\n",
              "  const steps = outputElement.steps;\n",
              "\n",
              "  const next = steps.next(outputElement.lastPromiseValue);\n",
              "  return Promise.resolve(next.value.promise).then((value) => {\n",
              "    // Cache the last promise value to make it available to the next\n",
              "    // step of the generator.\n",
              "    outputElement.lastPromiseValue = value;\n",
              "    return next.value.response;\n",
              "  });\n",
              "}\n",
              "\n",
              "/**\n",
              " * Generator function which is called between each async step of the upload\n",
              " * process.\n",
              " * @param {string} inputId Element ID of the input file picker element.\n",
              " * @param {string} outputId Element ID of the output display.\n",
              " * @return {!Iterable<!Object>} Iterable of next steps.\n",
              " */\n",
              "function* uploadFilesStep(inputId, outputId) {\n",
              "  const inputElement = document.getElementById(inputId);\n",
              "  inputElement.disabled = false;\n",
              "\n",
              "  const outputElement = document.getElementById(outputId);\n",
              "  outputElement.innerHTML = '';\n",
              "\n",
              "  const pickedPromise = new Promise((resolve) => {\n",
              "    inputElement.addEventListener('change', (e) => {\n",
              "      resolve(e.target.files);\n",
              "    });\n",
              "  });\n",
              "\n",
              "  const cancel = document.createElement('button');\n",
              "  inputElement.parentElement.appendChild(cancel);\n",
              "  cancel.textContent = 'Cancel upload';\n",
              "  const cancelPromise = new Promise((resolve) => {\n",
              "    cancel.onclick = () => {\n",
              "      resolve(null);\n",
              "    };\n",
              "  });\n",
              "\n",
              "  // Wait for the user to pick the files.\n",
              "  const files = yield {\n",
              "    promise: Promise.race([pickedPromise, cancelPromise]),\n",
              "    response: {\n",
              "      action: 'starting',\n",
              "    }\n",
              "  };\n",
              "\n",
              "  cancel.remove();\n",
              "\n",
              "  // Disable the input element since further picks are not allowed.\n",
              "  inputElement.disabled = true;\n",
              "\n",
              "  if (!files) {\n",
              "    return {\n",
              "      response: {\n",
              "        action: 'complete',\n",
              "      }\n",
              "    };\n",
              "  }\n",
              "\n",
              "  for (const file of files) {\n",
              "    const li = document.createElement('li');\n",
              "    li.append(span(file.name, {fontWeight: 'bold'}));\n",
              "    li.append(span(\n",
              "        `(${file.type || 'n/a'}) - ${file.size} bytes, ` +\n",
              "        `last modified: ${\n",
              "            file.lastModifiedDate ? file.lastModifiedDate.toLocaleDateString() :\n",
              "                                    'n/a'} - `));\n",
              "    const percent = span('0% done');\n",
              "    li.appendChild(percent);\n",
              "\n",
              "    outputElement.appendChild(li);\n",
              "\n",
              "    const fileDataPromise = new Promise((resolve) => {\n",
              "      const reader = new FileReader();\n",
              "      reader.onload = (e) => {\n",
              "        resolve(e.target.result);\n",
              "      };\n",
              "      reader.readAsArrayBuffer(file);\n",
              "    });\n",
              "    // Wait for the data to be ready.\n",
              "    let fileData = yield {\n",
              "      promise: fileDataPromise,\n",
              "      response: {\n",
              "        action: 'continue',\n",
              "      }\n",
              "    };\n",
              "\n",
              "    // Use a chunked sending to avoid message size limits. See b/62115660.\n",
              "    let position = 0;\n",
              "    do {\n",
              "      const length = Math.min(fileData.byteLength - position, MAX_PAYLOAD_SIZE);\n",
              "      const chunk = new Uint8Array(fileData, position, length);\n",
              "      position += length;\n",
              "\n",
              "      const base64 = btoa(String.fromCharCode.apply(null, chunk));\n",
              "      yield {\n",
              "        response: {\n",
              "          action: 'append',\n",
              "          file: file.name,\n",
              "          data: base64,\n",
              "        },\n",
              "      };\n",
              "\n",
              "      let percentDone = fileData.byteLength === 0 ?\n",
              "          100 :\n",
              "          Math.round((position / fileData.byteLength) * 100);\n",
              "      percent.textContent = `${percentDone}% done`;\n",
              "\n",
              "    } while (position < fileData.byteLength);\n",
              "  }\n",
              "\n",
              "  // All done.\n",
              "  yield {\n",
              "    response: {\n",
              "      action: 'complete',\n",
              "    }\n",
              "  };\n",
              "}\n",
              "\n",
              "scope.google = scope.google || {};\n",
              "scope.google.colab = scope.google.colab || {};\n",
              "scope.google.colab._files = {\n",
              "  _uploadFiles,\n",
              "  _uploadFilesContinue,\n",
              "};\n",
              "})(self);\n",
              "</script> "
            ]
          },
          "metadata": {}
        },
        {
          "output_type": "stream",
          "name": "stdout",
          "text": [
            "Saving 8.txt to 8.txt\n",
            "MPLVLQHAIRNIKGARDDYVTRRRTLNATQSLTRASLFTSGKRLGRRHVFSAVASQEGLYPEIGAIQHDSQHGVSRGLWTQSPTHEMGVAPQVVQLCTHCVSPQLSAHVVSIRVLTASSVFAAISHLSFGWRALFMGPIFPRNRLTPALQLRTRLENAWGRRPVRVMESLTNFLGMLNNGTPAQPQSGIQQGYKLMSARSVNNKKGHWALNTCVYWLFGLVLVAVFALVVKDPPIESGRRVFKVGRLVSKNFGAVSVRTVQLIISCGRRSRPFEYATCIPAACRSVTAFSVMVMLSGELYRCASDGIDQTTHNLIYTHTSQGEGKAVRPIGTDNPQDMAQLSMSDVTLLRWRSGVPHSTHSSPWWLIARGHLYRRLAGNCIVCVKLQFSSGINATDVTLRCSPLLSARDPTKPLADNLLTDYRLLRRTRNRPGSLTLDFNDRIYPTGLLPRIRLRNNRGNQSRWAMYRAKTVGEIYSVRGVLRTVSVSLSLAATPQMARPKPYLLVRGSTSSRSEVSILSFSIANIVSIDMQMTCLNKAKNAGHVSSTYTSCRKFEQRALGQLEQCELVYRVSLRFCSLAHRLCGAPKESPALIPIMPKTPSQDRLIHGHTKQRPIWESLPPKVNQLILISPLSRNFTECPILKGLHNMYVTLNRKVVLALKVVCRVPLTTAVLGSRRETNIGPASYRHFALPCGRVSMQMSASLHVKDPAVWFLSQIAIAIFAASPLPVNPDLAPLQSTVPYSPTLGSRSVAVVFRIHGMSVHRFDTATLYSACYPGPSGNPTIPIVYFPVSELTVPHWGADHRELCSLYQAAHLPYANMSSLIPEVLSRTGLKEWQSQNCQIEDRVCRSDQGRRSEWDLVILSTGFEHRAPPPTIAIYQRYGYRTHAAEFAWCWELFGRHSGPVRVLIRTSHPLRLTGSFPRTIIVTGRVIRNYRCPGVPVHRHSIFIPVIPMALLVPVSPTFDYVLCGVPVPSQPPRLRRQSFLTTGSRRQFHARRFLGVLPEVYAGNNIPVITNSTHAWAIRRPHLFKLSSLWNRFVRSAVNAQDPRVIWHMPIMDWTLARIIRTPERSRRHILSRCRVFQRLATELRWKRCLMLMSLRQELLTMLWSTGPVILYLGSDRLRFLLFMALARDSIIRASNFSDSCKKTSRGDLLFSRRSIKAIPACRHCSWCPPTQATADTLTMGPKQIEWQRSQMLVSKRSPRNTLSFPKGRFKHKHLRNHHELIRLGPILGFSLQRSATGYPQQRSPSMMHTLKDLWGAILSTISRKACQPYRECSMSTFAPCHTEWRTWWCAIWSGCANLLPHSAAPFLVRPYVAHSYSIIHHPGIKYTLSMPTLSYLEFETLLVTQRQLMPSQCMPSVGLKLSGTANLSTRVGLKAIGYMLMDVGRPSEKLFTTGPRTSSRWQSRTRLPREGQVCTSSDDRSWHPQHAPGAYLWKYHLDGIFSKSEGYPPQSRQGASTGLTFVVTEPKISYNLLPGRLSMRREYGTVLAVRTSNTDRSRRFIFKQGDGSVCMLNSCCAHEGEIVSVHSTPVVAYEPPCRFMSYRSMHVGSACEGNQRDLAMGRRLSVTVQVIACAPRVTDLVRTISPLVYDPIRYFNDIGENRATLVSTQCSTIYAPVYKQQTSDRTVCLPTRTCSNYDQQSVADPIKGPLPLSGTTISYVLIQRKRFRLLTVKFVTLDQYKSRAMTSITLNVVSALRIGLLQSCSSDGGLRLQVVISLTSTFGGKVCPYLEVYATVPNYPFIIAGRTIVMTTVKQLKHARAAYSSIAHLTALGQSAMISLWNKHVVPWFLLTPSHSLPSRPVFCDSYPRVLTQTQIGGRNRSGCKEPSTFSYILVISGSQSDIHPVVGRLTLTHLVGHRDHIDCNSPDCVDLSLRKSLRSRSRVLVANGIFCIGDCTNGGVFQIVNFNLPGGVIELAAWYSWIYGVCNKRSNKPGCPGSSDKTFISVVNSSVHHHGAGRLHKCIPLSEVMIRGSYYPVSTQMRQSTSDCALCLQRNLVTRTRNRQDETGLGRAGQPSFTRCTKTDGGSPPSLWRGFNPDGLRDCPSAARWSVIWIRTQKIVTHALTPTFSPRVYCSSGRGTTDFYYLYPRHWNPSASVQWRPPSCRRRGAMPSAPNLHCTTTPWRIKRCWSRHCKDRELAGILIAAITSIRSSDRVITTFRIIYASVYKRPNLDDFKYSVARGSQSVLRCFLIEERTIPVVALPSKPGARPHLVKSRWPRLVCQEPIEVRLVSYTQKPSKLCITKELLRMLYSVLLVEERGPRQLGSDVAAGWFSYTKRVRRTTVHPIRLGCSKISFRACIYDSISGTFRCSQSRSLLKQGRSESMILIVDILNTSTSSTPSYLTIPCKTTSLWRDGVTFDSHIESRRLWSESGAIKYRCRYQVRFCTPYCAWRPRALRSLQWRSIAEMTTLHRASYRNANHCYDDSTGTSTYDLAGPIDVVLKKFLLHLLSGQLSRANRRPFPWGQERAGDQAIEGKMATGRDTIGYYSRSIFWLVQGASLKDESVLGEVDHLPWQREGRFPNDESTVREPSILGICRSLACNASSRACGRPCPRSTGRSARYVWISLRTLDLEPLKAIFAQVHRMPFGLNMCRVNESTCFGTAFARNSSLRIRYTLEGINVEAEMTPGWISGSGGFGPRALPDTVVVRLVNYTVLTVLELHEKSVYTSNCTIGRNGGSLTLLIIGVSIQVNLVLLGLPTDQRAWRQFRNPGYPGGSRLLEPNAYHSHEIWGPNTVSSLFNGPDDLGWFCSIQSLPSLWALLCGTALDISARPRGAGFSFYEVCYKVNTRLLAFSVWASSLLPVVRTKHNIDVVSKCAGRPIRPDDMDDCATPPRMYKRRLVFIVPLTYHLPG\n"
          ]
        }
      ]
    },
    {
      "cell_type": "code",
      "source": [
        "# P22.1\n",
        "from Bio.SeqIO import parse\n",
        "\n",
        "# Make a small FASTA (if you don't have the Rosalind practice file)\n",
        "with open(\"practice_9.txt\", \"w\") as f:\n",
        "    f.write(\">seq1\\nATGCATGCAT\\n>seq2\\nGGGGCCCCAAAA\\n\")\n",
        "\n",
        "for seq_record in parse(\"practice_9.txt\", \"fasta\"):\n",
        "    print(\"ID:\", seq_record.id)\n",
        "    print(\"LEN:\", len(seq_record.seq))\n",
        "    print(\"SEQ:\", seq_record.seq)\n",
        "    print(\"-\" * 20)\n"
      ],
      "metadata": {
        "colab": {
          "base_uri": "https://localhost:8080/"
        },
        "id": "ziT0LgoPksrh",
        "outputId": "7f45305c-2d29-4c25-dc49-183a8147063a"
      },
      "execution_count": 51,
      "outputs": [
        {
          "output_type": "stream",
          "name": "stdout",
          "text": [
            "ID: seq1\n",
            "LEN: 10\n",
            "SEQ: ATGCATGCAT\n",
            "--------------------\n",
            "ID: seq2\n",
            "LEN: 12\n",
            "SEQ: GGGGCCCCAAAA\n",
            "--------------------\n"
          ]
        }
      ]
    },
    {
      "cell_type": "code",
      "source": [
        "# P23\n",
        "from Bio.SeqUtils import gc_fraction\n",
        "from Bio.SeqIO import parse\n",
        "\n",
        "max_gc_id = None\n",
        "max_gc_val = -1.0\n",
        "\n",
        "for rec in parse(\"practice_9.txt\", \"fasta\"):\n",
        "    gc = gc_fraction(str(rec.seq)) * 100.0\n",
        "    print(f\"{rec.id}\\t{gc:.6f}\")\n",
        "    if gc > max_gc_val:\n",
        "        max_gc_val = gc\n",
        "        max_gc_id = rec.id\n",
        "\n",
        "print(\"\\nMax GC:\")\n",
        "print(max_gc_id)\n",
        "print(f\"{max_gc_val:.6f}\")\n"
      ],
      "metadata": {
        "colab": {
          "base_uri": "https://localhost:8080/"
        },
        "id": "XbpqX_3qksvG",
        "outputId": "426b6a01-9835-4a46-bb90-ed9518fc9972"
      },
      "execution_count": 52,
      "outputs": [
        {
          "output_type": "stream",
          "name": "stdout",
          "text": [
            "seq1\t40.000000\n",
            "seq2\t66.666667\n",
            "\n",
            "Max GC:\n",
            "seq2\n",
            "66.666667\n"
          ]
        }
      ]
    },
    {
      "cell_type": "code",
      "source": [
        "# 9 Complete Rosalind Task\n",
        "from Bio.SeqIO import parse\n",
        "from Bio.SeqUtils import gc_fraction\n",
        "\n",
        "best_id, best_gc = None, -1.0\n",
        "for rec in parse(\"9.txt\", \"fasta\"):\n",
        "    gc = gc_fraction(str(rec.seq))\n",
        "    if gc > best_gc:\n",
        "        best_gc, best_id = gc, rec.id\n",
        "\n",
        "print(best_id)\n",
        "print(round(best_gc * 100, 6))"
      ],
      "metadata": {
        "colab": {
          "base_uri": "https://localhost:8080/"
        },
        "id": "i6oZlLoFk96N",
        "outputId": "3df4c0de-5974-420a-a7e9-857e65520b2a"
      },
      "execution_count": 54,
      "outputs": [
        {
          "output_type": "stream",
          "name": "stdout",
          "text": [
            "Rosalind_9997\n",
            "52.941176\n"
          ]
        }
      ]
    }
  ]
}
