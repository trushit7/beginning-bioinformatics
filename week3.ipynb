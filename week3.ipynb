{
  "nbformat": 4,
  "nbformat_minor": 0,
  "metadata": {
    "colab": {
      "provenance": [],
      "authorship_tag": "ABX9TyNKsaoOoiDME4S5AEX2RGWd",
      "include_colab_link": true
    },
    "kernelspec": {
      "name": "python3",
      "display_name": "Python 3"
    },
    "language_info": {
      "name": "python"
    }
  },
  "cells": [
    {
      "cell_type": "markdown",
      "metadata": {
        "id": "view-in-github",
        "colab_type": "text"
      },
      "source": [
        "<a href=\"https://colab.research.google.com/github/trushit7/beginning-bioinformatics/blob/main/week3.ipynb\" target=\"_parent\"><img src=\"https://colab.research.google.com/assets/colab-badge.svg\" alt=\"Open In Colab\"/></a>"
      ]
    },
    {
      "cell_type": "code",
      "execution_count": 1,
      "metadata": {
        "colab": {
          "base_uri": "https://localhost:8080/"
        },
        "id": "0WGPEo9egKQ-",
        "outputId": "76fee9df-00f7-4cb8-8695-744a20f5c5b1"
      },
      "outputs": [
        {
          "output_type": "stream",
          "name": "stdout",
          "text": [
            "Enter your name: Trushit\n",
            "Hello Trushit\n"
          ]
        }
      ],
      "source": [
        "# P6.1\n",
        "user_name = input(\"Enter your name: \")\n",
        "print(\"Hello\", user_name)"
      ]
    },
    {
      "cell_type": "code",
      "source": [
        "# P6.2: a^2 + b^2 = c^2\n",
        "a = float(input(\"Enter side a: \"))\n",
        "b = float(input(\"Enter side b: \"))\n",
        "c = (a**2 + b**2) ** 0.5\n",
        "print(\"Hypotenuse =\", c)"
      ],
      "metadata": {
        "colab": {
          "base_uri": "https://localhost:8080/"
        },
        "id": "ca7Ug3wngPpS",
        "outputId": "58cd67b9-3310-4c2d-dd9c-46999d56c112"
      },
      "execution_count": 3,
      "outputs": [
        {
          "output_type": "stream",
          "name": "stdout",
          "text": [
            "Enter side a: 863\n",
            "Enter side b: 986\n",
            "Hypotenuse = 1310.3301110788839\n"
          ]
        }
      ]
    },
    {
      "cell_type": "code",
      "source": [
        "# P7.1\n",
        "my_list = [\"Hello\", \"World\", \"Trushit\", \"Karan\"]\n",
        "print(my_list[1])  # World (0-based indexing)"
      ],
      "metadata": {
        "colab": {
          "base_uri": "https://localhost:8080/"
        },
        "id": "JYXIZ-G_gPst",
        "outputId": "f0bf01f4-472d-48b8-f046-0febd6f15575"
      },
      "execution_count": 4,
      "outputs": [
        {
          "output_type": "stream",
          "name": "stdout",
          "text": [
            "World\n"
          ]
        }
      ]
    },
    {
      "cell_type": "code",
      "source": [
        "# P7.2\n",
        "my_list[3] = \"Meet\"\n",
        "print(my_list)"
      ],
      "metadata": {
        "colab": {
          "base_uri": "https://localhost:8080/"
        },
        "id": "zV8eoGYvgP4M",
        "outputId": "dfc7b924-1055-4674-a0af-47a24b4447e9"
      },
      "execution_count": 5,
      "outputs": [
        {
          "output_type": "stream",
          "name": "stdout",
          "text": [
            "['Hello', 'World', 'Trushit', 'Meet']\n"
          ]
        }
      ]
    },
    {
      "cell_type": "code",
      "source": [
        "# P7.3\n",
        "my_list.append(\"Jay\")\n",
        "print(my_list)"
      ],
      "metadata": {
        "colab": {
          "base_uri": "https://localhost:8080/"
        },
        "id": "ez8rw3AbgeP1",
        "outputId": "7c579aed-b459-4c87-a667-86a3681d1787"
      },
      "execution_count": 6,
      "outputs": [
        {
          "output_type": "stream",
          "name": "stdout",
          "text": [
            "['Hello', 'World', 'Trushit', 'Meet', 'Jay']\n"
          ]
        }
      ]
    },
    {
      "cell_type": "code",
      "source": [
        "# P7.4\n",
        "my_list.insert(1, \"Iitem\")\n",
        "print(my_list)"
      ],
      "metadata": {
        "colab": {
          "base_uri": "https://localhost:8080/"
        },
        "id": "_C8AhpFDgeSk",
        "outputId": "8e3f4182-a1a1-4d77-addd-9dd8dc59281a"
      },
      "execution_count": 7,
      "outputs": [
        {
          "output_type": "stream",
          "name": "stdout",
          "text": [
            "['Hello', 'Iitem', 'World', 'Trushit', 'Meet', 'Jay']\n"
          ]
        }
      ]
    },
    {
      "cell_type": "code",
      "source": [
        "# P8: Strings slice like lists\n",
        "my_string = \"HelloWorldTrushitMeet\"\n",
        "# Print \"Hello World\"\n",
        "hello = my_string[0:5]\n",
        "world = my_string[5:10]\n",
        "print(hello, world)"
      ],
      "metadata": {
        "colab": {
          "base_uri": "https://localhost:8080/"
        },
        "id": "4Sp3rpJ8gmcf",
        "outputId": "beaeb510-2bcc-49a9-d03c-a21361f65fdd"
      },
      "execution_count": 9,
      "outputs": [
        {
          "output_type": "stream",
          "name": "stdout",
          "text": [
            "Hello World\n"
          ]
        }
      ]
    },
    {
      "cell_type": "code",
      "source": [
        "# P8.1\n",
        "print(my_list[2:4])  # end is non-inclusive"
      ],
      "metadata": {
        "colab": {
          "base_uri": "https://localhost:8080/"
        },
        "id": "lKL2lvCbgeU5",
        "outputId": "1cdff3a0-e848-4845-b46c-0aa368b17802"
      },
      "execution_count": 10,
      "outputs": [
        {
          "output_type": "stream",
          "name": "stdout",
          "text": [
            "['World', 'Trushit']\n"
          ]
        }
      ]
    },
    {
      "cell_type": "code",
      "source": [
        "#P8.2\n",
        "first = my_string[33:]\n",
        "second   = my_string[5:10]\n",
        "print(f\"{first} {second}\")"
      ],
      "metadata": {
        "colab": {
          "base_uri": "https://localhost:8080/"
        },
        "id": "UPD-5tntgo0q",
        "outputId": "b4d4dc83-3ffa-4942-96c4-7f5449bbfcde"
      },
      "execution_count": 11,
      "outputs": [
        {
          "output_type": "stream",
          "name": "stdout",
          "text": [
            " World\n"
          ]
        }
      ]
    },
    {
      "cell_type": "code",
      "source": [
        "#2: Rosalind Problem Strings and Lists\n",
        "s = input().strip()\n",
        "a, b, c, d = map(int, input().split())\n",
        "print(s[a:b+1], s[c:d+1])"
      ],
      "metadata": {
        "colab": {
          "base_uri": "https://localhost:8080/"
        },
        "id": "7gp2HK5_geYS",
        "outputId": "3247a3df-daed-442a-a475-4153e311a2e7"
      },
      "execution_count": 13,
      "outputs": [
        {
          "output_type": "stream",
          "name": "stdout",
          "text": [
            "csP9k6YVcGtO1EV409Hz98QmOLVRSswJw0L0R9IhaglFVruMhGjSbM6rxY2RBbJNZy6Twc7rDoMJTamiaslcEWd6o4nwFlUdylErdcJsg7dh9dL7S5Avfporzana4gOejqsBkFNCdqy1uMI9jyeGe1sE2fXwZBiztk4.\n",
            "76 81 117 123\n",
            "Tamias porzana\n"
          ]
        }
      ]
    }
  ]
}